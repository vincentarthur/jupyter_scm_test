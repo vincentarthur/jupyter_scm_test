{
 "cells": [
  {
   "cell_type": "code",
   "execution_count": 1,
   "metadata": {},
   "outputs": [
    {
     "data": {
      "text/plain": [
       "Intitializing Scala interpreter ..."
      ]
     },
     "metadata": {},
     "output_type": "display_data"
    },
    {
     "data": {
      "text/plain": [
       "Spark Web UI available at http://6e9a129a9db2:4041\n",
       "SparkContext available as 'sc' (version = 2.3.0, master = local[*], app id = local-1529897206826)\n",
       "SparkSession available as 'spark'\n"
      ]
     },
     "metadata": {},
     "output_type": "display_data"
    },
    {
     "name": "stdout",
     "output_type": "stream",
     "text": [
      "2018-06-25 03:26:45 WARN  NativeCodeLoader:62 - Unable to load native-hadoop library for your platform... using builtin-java classes where applicable\n",
      "2018-06-25 03:26:46 WARN  Utils:66 - Service 'SparkUI' could not bind on port 4040. Attempting port 4041.\n"
     ]
    },
    {
     "data": {
      "text/plain": [
       "import org.apache.spark.SparkContext\n",
       "import org.apache.spark.SparkContext._\n",
       "import org.apache.spark.SparkConf\n",
       "defined object HelloWorld\n"
      ]
     },
     "execution_count": 1,
     "metadata": {},
     "output_type": "execute_result"
    }
   ],
   "source": [
    "// import required spark classes\n",
    "import org.apache.spark.SparkContext\n",
    "import org.apache.spark.SparkContext._\n",
    "import org.apache.spark.SparkConf\n",
    " \n",
    "// define main method (Spark entry point)\n",
    "object HelloWorld {\n",
    "  def main(args: Array[String]) {\n",
    " \n",
    "    // initialise spark context\n",
    "    val conf = new SparkConf().setAppName(\"HelloWorld\")\n",
    "    val sc = new SparkContext(conf)\n",
    "    \n",
    "    // do stuff\n",
    "    println(\"************\")\n",
    "    println(\"************\")\n",
    "    println(\"Hello, world!\")\n",
    "    println(\"************\")\n",
    "    println(\"************\")\n",
    "    \n",
    "    // terminate spark context\n",
    "    sc.stop()\n",
    "    \n",
    "  }\n",
    "}"
   ]
  }
 ],
 "metadata": {
  "kernelspec": {
   "display_name": "spylon-kernel",
   "language": "scala",
   "name": "spylon-kernel"
  },
  "language_info": {
   "codemirror_mode": "text/x-scala",
   "file_extension": ".scala",
   "help_links": [
    {
     "text": "MetaKernel Magics",
     "url": "https://github.com/calysto/metakernel/blob/master/metakernel/magics/README.md"
    }
   ],
   "mimetype": "text/x-scala",
   "name": "scala",
   "pygments_lexer": "scala",
   "version": "0.4.1"
  }
 },
 "nbformat": 4,
 "nbformat_minor": 2
}
